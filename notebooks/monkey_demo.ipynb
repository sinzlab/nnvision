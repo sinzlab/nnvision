{
 "cells": [
  {
   "cell_type": "markdown",
   "source": [
    "## Example Notebook "
   ],
   "metadata": {}
  },
  {
   "cell_type": "markdown",
   "source": [
    "### Requirements"
   ],
   "metadata": {}
  },
  {
   "cell_type": "markdown",
   "source": [
    "- nnfabrik, neuralpredictors, and nnvision from the sinzlab repository have to be installed/cloned\n",
    "\n",
    "- we are using the pytorch image called `sinzlab/pytorch:v3.8-torch1.4.0-cuda10.1-dj0.12.4`\n",
    "    - docker image can be found here: https://github.com/sinzlab/pytorch-docker or https://hub.docker.com/r/sinzlab/pytorch/dockerfile\n",
    "    - there, the complete list of packages to be installed can be found.\n",
    "    - torch >= 1.4 is required.\n",
    "</br>\n",
    "</br>\n",
    "- All individual pickle files and the image-pickle file have to be present. The can be found on the GPU server under /var/lib/nova/sinz-shared/data\n"
   ],
   "metadata": {}
  },
  {
   "cell_type": "markdown",
   "source": [
    "# Imports"
   ],
   "metadata": {}
  },
  {
   "cell_type": "markdown",
   "source": [
    "make sure to install all required packages. dependencies are listed in the dockerfile above. If necessary, install packages within the environment\n"
   ],
   "metadata": {}
  },
  {
   "cell_type": "code",
   "execution_count": 1,
   "source": [
    "import torch\n",
    "\n",
    "import nnfabrik\n",
    "from nnfabrik import builder\n",
    "\n",
    "\n",
    "import numpy as np\n",
    "import pickle\n",
    "import os\n",
    "\n",
    "from os import listdir\n",
    "from os.path import isfile, join\n",
    "\n",
    "import matplotlib.pyplot as plt\n",
    "\n",
    "import nnvision"
   ],
   "outputs": [],
   "metadata": {}
  },
  {
   "cell_type": "markdown",
   "source": [
    "# NNfabrik intro: Using the builder to build the dataloader objects, models, trainer"
   ],
   "metadata": {}
  },
  {
   "cell_type": "code",
   "execution_count": 2,
   "source": [
    "# here's where the data is on the server:\n",
    "os.listdir('/data')"
   ],
   "outputs": [
    {
     "output_type": "execute_result",
     "data": {
      "text/plain": [
       "['image_classification', 'monkey', 'mouse', 'fetched_from_attach']"
      ]
     },
     "metadata": {},
     "execution_count": 2
    }
   ],
   "metadata": {}
  },
  {
   "cell_type": "code",
   "execution_count": 3,
   "source": [
    "#### loading monkey data\n",
    "\n",
    "basepath = '/data/monkey/toliaslab/CSRF19_V1'\n",
    "neuronal_data_path = os.path.join(basepath, 'neuronal_data/')\n",
    "neuronal_data_files = [neuronal_data_path+f for f in listdir(neuronal_data_path) if isfile(join(neuronal_data_path, f))]\n",
    "image_file = os.path.join(basepath, 'images/CSRF19_V1_images.pickle')\n",
    "image_cache_path = os.path.join(basepath, 'images/individual')\n"
   ],
   "outputs": [],
   "metadata": {}
  },
  {
   "cell_type": "code",
   "execution_count": 4,
   "source": [
    "# Specifying the dataset function: its defined in nnvision/datasets, and has to present in the __init__.py there.\n",
    "dataset_fn = 'nnvision.datasets.monkey_static_loader'\n",
    "dataset_config = dict(dataset='CSRF19_V1',\n",
    "                               neuronal_data_files=neuronal_data_files,\n",
    "                               image_cache_path=image_cache_path,\n",
    "                               crop=102,\n",
    "                               subsample=1,\n",
    "                               seed=1000,\n",
    "                               time_bins_sum=6,\n",
    "                               batch_size=128,)\n"
   ],
   "outputs": [],
   "metadata": {}
  },
  {
   "cell_type": "code",
   "execution_count": 5,
   "source": [
    "dataloaders = builder.get_data(dataset_fn, dataset_config)"
   ],
   "outputs": [],
   "metadata": {}
  },
  {
   "cell_type": "markdown",
   "source": [
    "## Dataloaders"
   ],
   "metadata": {}
  },
  {
   "cell_type": "markdown",
   "source": [
    "NNfabrik expects dataloaders to be nested dictionarys with actual PyTorch DataLoader Objects at the second Tier. The First Tier will be \"train\", \"validation\", and \"test\". The second Tier will be \"session_key\": DataLoader. So each dataset is either comprised of one or multiple sessions, with a session ID as the dictionary key to its dataloader.\n",
    "Let's have a look:"
   ],
   "metadata": {}
  },
  {
   "cell_type": "code",
   "execution_count": 7,
   "source": [
    "dataloaders"
   ],
   "outputs": [
    {
     "output_type": "execute_result",
     "data": {
      "text/plain": [
       "{'train': {'3636552742293': <torch.utils.data.dataloader.DataLoader at 0x7fa4a727ea00>,\n",
       "  '3636034866307': <torch.utils.data.dataloader.DataLoader at 0x7fa4a49f20d0>,\n",
       "  '3635178040531': <torch.utils.data.dataloader.DataLoader at 0x7fa4a49f2f40>,\n",
       "  '3637851724731': <torch.utils.data.dataloader.DataLoader at 0x7fa4a49f7ac0>,\n",
       "  '3638973674012': <torch.utils.data.dataloader.DataLoader at 0x7fa4a49fae20>,\n",
       "  '3637248451650': <torch.utils.data.dataloader.DataLoader at 0x7fa4a49feb80>,\n",
       "  '3638885582960': <torch.utils.data.dataloader.DataLoader at 0x7fa4a4a00a90>,\n",
       "  '3638373332053': <torch.utils.data.dataloader.DataLoader at 0x7fa4a4ac5940>,\n",
       "  '3638541006102': <torch.utils.data.dataloader.DataLoader at 0x7fa4a4ac6910>,\n",
       "  '3633364677437': <torch.utils.data.dataloader.DataLoader at 0x7fa4a4ac9700>,\n",
       "  '3640011636703': <torch.utils.data.dataloader.DataLoader at 0x7fa4a4ace5b0>,\n",
       "  '3631807112901': <torch.utils.data.dataloader.DataLoader at 0x7fa4a4ad35b0>,\n",
       "  '3639664527524': <torch.utils.data.dataloader.DataLoader at 0x7fa4a4ad6430>,\n",
       "  '3634744023164': <torch.utils.data.dataloader.DataLoader at 0x7fa4a4ad7220>,\n",
       "  '3637161140869': <torch.utils.data.dataloader.DataLoader at 0x7fa4a4add1f0>,\n",
       "  '3638456653849': <torch.utils.data.dataloader.DataLoader at 0x7fa4a4add9d0>,\n",
       "  '3635949043110': <torch.utils.data.dataloader.DataLoader at 0x7fa4a4ae1f40>,\n",
       "  '3632932714885': <torch.utils.data.dataloader.DataLoader at 0x7fa4a4ae6e20>,\n",
       "  '3634658447291': <torch.utils.data.dataloader.DataLoader at 0x7fa4a4ae9d00>,\n",
       "  '3637333931598': <torch.utils.data.dataloader.DataLoader at 0x7fa4a4aedb80>,\n",
       "  '3638802601378': <torch.utils.data.dataloader.DataLoader at 0x7fa4a4af0a60>,\n",
       "  '3639749909659': <torch.utils.data.dataloader.DataLoader at 0x7fa4a4af3940>,\n",
       "  '3639060843972': <torch.utils.data.dataloader.DataLoader at 0x7fa4a4af77f0>,\n",
       "  '3631896544452': <torch.utils.data.dataloader.DataLoader at 0x7fa4a4afa7f0>,\n",
       "  '3639406161189': <torch.utils.data.dataloader.DataLoader at 0x7fa4a4b00280>,\n",
       "  '3639492658943': <torch.utils.data.dataloader.DataLoader at 0x7fa4a4a855b0>,\n",
       "  '3634142311627': <torch.utils.data.dataloader.DataLoader at 0x7fa4a4a86340>,\n",
       "  '3632669014376': <torch.utils.data.dataloader.DataLoader at 0x7fa4a4a8e310>,\n",
       "  '3634055946316': <torch.utils.data.dataloader.DataLoader at 0x7fa4a4a911f0>,\n",
       "  '3640095265572': <torch.utils.data.dataloader.DataLoader at 0x7fa4a4a950d0>,\n",
       "  '3637760318484': <torch.utils.data.dataloader.DataLoader at 0x7fa4a4a958b0>,\n",
       "  '3638367026975': <torch.utils.data.dataloader.DataLoader at 0x7fa4a4a96f40>},\n",
       " 'validation': {'3636552742293': <torch.utils.data.dataloader.DataLoader at 0x7fa4a49d18e0>,\n",
       "  '3636034866307': <torch.utils.data.dataloader.DataLoader at 0x7fa4a49f2520>,\n",
       "  '3635178040531': <torch.utils.data.dataloader.DataLoader at 0x7fa4a49f7400>,\n",
       "  '3637851724731': <torch.utils.data.dataloader.DataLoader at 0x7fa4a49fa2b0>,\n",
       "  '3638973674012': <torch.utils.data.dataloader.DataLoader at 0x7fa4a49fe160>,\n",
       "  '3637248451650': <torch.utils.data.dataloader.DataLoader at 0x7fa4a4a00040>,\n",
       "  '3638885582960': <torch.utils.data.dataloader.DataLoader at 0x7fa4a4a00fa0>,\n",
       "  '3638373332053': <torch.utils.data.dataloader.DataLoader at 0x7fa4a4ac5e80>,\n",
       "  '3638541006102': <torch.utils.data.dataloader.DataLoader at 0x7fa4a4ac6d00>,\n",
       "  '3633364677437': <torch.utils.data.dataloader.DataLoader at 0x7fa4a4ac9c40>,\n",
       "  '3640011636703': <torch.utils.data.dataloader.DataLoader at 0x7fa4a4aceac0>,\n",
       "  '3631807112901': <torch.utils.data.dataloader.DataLoader at 0x7fa4a4ad39a0>,\n",
       "  '3639664527524': <torch.utils.data.dataloader.DataLoader at 0x7fa4a4ad6850>,\n",
       "  '3634744023164': <torch.utils.data.dataloader.DataLoader at 0x7fa4a4ad7730>,\n",
       "  '3637161140869': <torch.utils.data.dataloader.DataLoader at 0x7fa4a4add610>,\n",
       "  '3638456653849': <torch.utils.data.dataloader.DataLoader at 0x7fa4a4ae14f0>,\n",
       "  '3635949043110': <torch.utils.data.dataloader.DataLoader at 0x7fa4a4ae63d0>,\n",
       "  '3632932714885': <torch.utils.data.dataloader.DataLoader at 0x7fa4a4ae92b0>,\n",
       "  '3634658447291': <torch.utils.data.dataloader.DataLoader at 0x7fa4a4aed160>,\n",
       "  '3637333931598': <torch.utils.data.dataloader.DataLoader at 0x7fa4a4af0040>,\n",
       "  '3638802601378': <torch.utils.data.dataloader.DataLoader at 0x7fa4a4af0fa0>,\n",
       "  '3639749909659': <torch.utils.data.dataloader.DataLoader at 0x7fa4a4af3e80>,\n",
       "  '3639060843972': <torch.utils.data.dataloader.DataLoader at 0x7fa4a4af7d00>,\n",
       "  '3631896544452': <torch.utils.data.dataloader.DataLoader at 0x7fa4a4afabe0>,\n",
       "  '3639406161189': <torch.utils.data.dataloader.DataLoader at 0x7fa4a4b00af0>,\n",
       "  '3639492658943': <torch.utils.data.dataloader.DataLoader at 0x7fa4a4a859a0>,\n",
       "  '3634142311627': <torch.utils.data.dataloader.DataLoader at 0x7fa4a4a86850>,\n",
       "  '3632669014376': <torch.utils.data.dataloader.DataLoader at 0x7fa4a4a8e730>,\n",
       "  '3634055946316': <torch.utils.data.dataloader.DataLoader at 0x7fa4a4a91610>,\n",
       "  '3640095265572': <torch.utils.data.dataloader.DataLoader at 0x7fa4a4a954f0>,\n",
       "  '3637760318484': <torch.utils.data.dataloader.DataLoader at 0x7fa4a4a96400>,\n",
       "  '3638367026975': <torch.utils.data.dataloader.DataLoader at 0x7fa4a4a9c2b0>},\n",
       " 'test': {'3636552742293': <torch.utils.data.dataloader.DataLoader at 0x7fa4a49d1850>,\n",
       "  '3636034866307': <torch.utils.data.dataloader.DataLoader at 0x7fa4a49f2c70>,\n",
       "  '3635178040531': <torch.utils.data.dataloader.DataLoader at 0x7fa4a49f7b80>,\n",
       "  '3637851724731': <torch.utils.data.dataloader.DataLoader at 0x7fa4a49faa30>,\n",
       "  '3638973674012': <torch.utils.data.dataloader.DataLoader at 0x7fa4a49fe8e0>,\n",
       "  '3637248451650': <torch.utils.data.dataloader.DataLoader at 0x7fa4a4a007c0>,\n",
       "  '3638885582960': <torch.utils.data.dataloader.DataLoader at 0x7fa4a4ac56a0>,\n",
       "  '3638373332053': <torch.utils.data.dataloader.DataLoader at 0x7fa4a4ac6520>,\n",
       "  '3638541006102': <torch.utils.data.dataloader.DataLoader at 0x7fa4a4ac9460>,\n",
       "  '3633364677437': <torch.utils.data.dataloader.DataLoader at 0x7fa4a4ace2e0>,\n",
       "  '3640011636703': <torch.utils.data.dataloader.DataLoader at 0x7fa4a4ad31c0>,\n",
       "  '3631807112901': <torch.utils.data.dataloader.DataLoader at 0x7fa4a4ad60a0>,\n",
       "  '3639664527524': <torch.utils.data.dataloader.DataLoader at 0x7fa4a4ad6fd0>,\n",
       "  '3634744023164': <torch.utils.data.dataloader.DataLoader at 0x7fa4a4ad7eb0>,\n",
       "  '3637161140869': <torch.utils.data.dataloader.DataLoader at 0x7fa4a4addd90>,\n",
       "  '3638456653849': <torch.utils.data.dataloader.DataLoader at 0x7fa4a4ae1c70>,\n",
       "  '3635949043110': <torch.utils.data.dataloader.DataLoader at 0x7fa4a4ae6b50>,\n",
       "  '3632932714885': <torch.utils.data.dataloader.DataLoader at 0x7fa4a4ae9a30>,\n",
       "  '3634658447291': <torch.utils.data.dataloader.DataLoader at 0x7fa4a4aed8e0>,\n",
       "  '3637333931598': <torch.utils.data.dataloader.DataLoader at 0x7fa4a4af07c0>,\n",
       "  '3638802601378': <torch.utils.data.dataloader.DataLoader at 0x7fa4a4af36a0>,\n",
       "  '3639749909659': <torch.utils.data.dataloader.DataLoader at 0x7fa4a4af7520>,\n",
       "  '3639060843972': <torch.utils.data.dataloader.DataLoader at 0x7fa4a4afa400>,\n",
       "  '3631896544452': <torch.utils.data.dataloader.DataLoader at 0x7fa4a4b00310>,\n",
       "  '3639406161189': <torch.utils.data.dataloader.DataLoader at 0x7fa4a4a851c0>,\n",
       "  '3639492658943': <torch.utils.data.dataloader.DataLoader at 0x7fa4a4a860a0>,\n",
       "  '3634142311627': <torch.utils.data.dataloader.DataLoader at 0x7fa4a4a86fd0>,\n",
       "  '3632669014376': <torch.utils.data.dataloader.DataLoader at 0x7fa4a4a8eeb0>,\n",
       "  '3634055946316': <torch.utils.data.dataloader.DataLoader at 0x7fa4a4a91d90>,\n",
       "  '3640095265572': <torch.utils.data.dataloader.DataLoader at 0x7fa4a4a95c70>,\n",
       "  '3637760318484': <torch.utils.data.dataloader.DataLoader at 0x7fa4a4a96b50>,\n",
       "  '3638367026975': <torch.utils.data.dataloader.DataLoader at 0x7fa4a4a9ca30>}}"
      ]
     },
     "metadata": {},
     "execution_count": 7
    }
   ],
   "metadata": {}
  },
  {
   "cell_type": "code",
   "execution_count": 8,
   "source": [
    "# here's a random image. The images are cropped to be 20x20, so it trains fast for demo purposes.\n",
    "some_image = dataloaders[\"train\"][list(dataloaders[\"train\"].keys())[0]].dataset[:].inputs[0,0,::].cpu().numpy()\n",
    "plt.imshow(some_image, cmap='gray')"
   ],
   "outputs": [
    {
     "output_type": "execute_result",
     "data": {
      "text/plain": [
       "<matplotlib.image.AxesImage at 0x7fa494ae0280>"
      ]
     },
     "metadata": {},
     "execution_count": 8
    },
    {
     "output_type": "display_data",
     "data": {
      "text/plain": [
       "<Figure size 432x288 with 1 Axes>"
      ],
      "image/png": "[encoded data removed]"
     },
     "metadata": {
      "needs_background": "light"
     }
    }
   ],
   "metadata": {}
  },
  {
   "cell_type": "code",
   "execution_count": 9,
   "source": [
    "# get first data_key\n",
    "first_session_ID = list((dataloaders[\"train\"].keys()))[0]\n"
   ],
   "outputs": [],
   "metadata": {}
  },
  {
   "cell_type": "code",
   "execution_count": 10,
   "source": [
    "a_dataloader = dataloaders[\"train\"][first_session_ID]\n",
    "a_dataloader"
   ],
   "outputs": [
    {
     "output_type": "execute_result",
     "data": {
      "text/plain": [
       "<torch.utils.data.dataloader.DataLoader at 0x7fa4a727ea00>"
      ]
     },
     "metadata": {},
     "execution_count": 10
    }
   ],
   "metadata": {}
  },
  {
   "cell_type": "code",
   "execution_count": 11,
   "source": [
    "inputs, targets = next(iter(a_dataloader))\n",
    "print(\"image_dimensions:\", inputs.shape)\n",
    "print(\"number of neurons of that session: \", targets.shape)\n",
    "print(\"total training batches: \", len(a_dataloader))"
   ],
   "outputs": [
    {
     "output_type": "stream",
     "name": "stdout",
     "text": [
      "image_dimensions: torch.Size([128, 1, 29, 29])\n",
      "number of neurons of that session:  torch.Size([128, 24])\n",
      "total training batches:  77\n"
     ]
    }
   ],
   "metadata": {}
  },
  {
   "cell_type": "code",
   "execution_count": 12,
   "source": [
    "# input image dimension\n",
    "input_shape = dataloaders[\"train\"][first_session_ID].dataset[:].inputs.shape\n",
    "print(input_shape)\n",
    "# total images = 16064\n",
    "# dims: N x C x W x H"
   ],
   "outputs": [
    {
     "output_type": "stream",
     "name": "stdout",
     "text": [
      "torch.Size([9803, 1, 29, 29])\n"
     ]
    }
   ],
   "metadata": {}
  },
  {
   "cell_type": "code",
   "execution_count": 13,
   "source": [
    "# outpt dimensions: neuronal firing rates'\n",
    "output_shape = dataloaders[\"train\"][first_session_ID].dataset[:].targets.shape\n",
    "\n",
    "print(output_shape)\n",
    "# Output: 14 Neurons, with N spikes over 60 ms"
   ],
   "outputs": [
    {
     "output_type": "stream",
     "name": "stdout",
     "text": [
      "torch.Size([9803, 24])\n"
     ]
    }
   ],
   "metadata": {}
  },
  {
   "cell_type": "markdown",
   "source": [
    "## Model Building"
   ],
   "metadata": {}
  },
  {
   "cell_type": "markdown",
   "source": [
    "Models are built using the neuralpredictors repo from sinzlab. They consist of a convolutional core (with a user-specified number of layers), and a readout (spatial transformer readout, described in Sinz et al, 2018, NeurIPS)."
   ],
   "metadata": {}
  },
  {
   "cell_type": "markdown",
   "source": [
    "### Building a model"
   ],
   "metadata": {}
  },
  {
   "cell_type": "code",
   "execution_count": 14,
   "source": [
    "\n",
    "model_fn = 'nnvision.models.se_core_full_gauss_readout'\n",
    "model_config = {'pad_input': False,\n",
    "                'stack': -1,\n",
    "               'depth_separable': True,\n",
    "               'input_kern': 20,\n",
    "               'gamma_input': 11.2,\n",
    "               'gamma_readout': 0.33,\n",
    "               'hidden_dilation': 1,\n",
    "               'hidden_kern': 5,\n",
    "               'n_se_blocks': 0,\n",
    "               'hidden_channels': 32}\n",
    "model = builder.get_model(model_fn, model_config, dataloaders=dataloaders,seed=1000)\n",
    "print(model)"
   ],
   "outputs": [
    {
     "output_type": "stream",
     "name": "stdout",
     "text": [
      "Connecting kwilleke@134.2.168.16:3306\n",
      "Encoder(\n",
      "  (core): SE2dCore(\n",
      "    (_input_weights_regularizer): LaplaceL2norm(\n",
      "      (laplace): Laplace()\n",
      "    )\n",
      "    (features): Sequential(\n",
      "      (layer0): Sequential(\n",
      "        (conv): Conv2d(1, 32, kernel_size=(20, 20), stride=(1, 1), bias=False)\n",
      "        (norm): BatchNorm2d(32, eps=1e-05, momentum=0.9, affine=True, track_running_stats=True)\n",
      "        (nonlin): ELU(alpha=1.0, inplace=True)\n",
      "      )\n",
      "      (layer1): Sequential(\n",
      "        (ds_conv): DepthSeparableConv2d(\n",
      "          (in_depth_conv): Conv2d(32, 32, kernel_size=(1, 1), stride=(1, 1), bias=False)\n",
      "          (spatial_conv): Conv2d(32, 32, kernel_size=(5, 5), stride=(1, 1), padding=(2, 2), groups=32, bias=False)\n",
      "          (out_depth_conv): Conv2d(32, 32, kernel_size=(1, 1), stride=(1, 1), bias=False)\n",
      "        )\n",
      "        (norm): BatchNorm2d(32, eps=1e-05, momentum=0.9, affine=True, track_running_stats=True)\n",
      "        (nonlin): ELU(alpha=1.0, inplace=True)\n",
      "      )\n",
      "      (layer2): Sequential(\n",
      "        (ds_conv): DepthSeparableConv2d(\n",
      "          (in_depth_conv): Conv2d(32, 32, kernel_size=(1, 1), stride=(1, 1), bias=False)\n",
      "          (spatial_conv): Conv2d(32, 32, kernel_size=(5, 5), stride=(1, 1), padding=(2, 2), groups=32, bias=False)\n",
      "          (out_depth_conv): Conv2d(32, 32, kernel_size=(1, 1), stride=(1, 1), bias=False)\n",
      "        )\n",
      "        (norm): BatchNorm2d(32, eps=1e-05, momentum=0.9, affine=True, track_running_stats=True)\n",
      "        (nonlin): ELU(alpha=1.0, inplace=True)\n",
      "      )\n",
      "    )\n",
      "  ) [SE2dCore regularizers: gamma_input = 11.2|skip = 0]\n",
      "  \n",
      "  (readout): MultipleFullGaussian2d(\n",
      "    (3636552742293): full FullGaussian2d (32 x 10 x 10 -> 24) with bias\n",
      "    (3636034866307): full FullGaussian2d (32 x 10 x 10 -> 20) with bias\n",
      "    (3635178040531): full FullGaussian2d (32 x 10 x 10 -> 6) with bias\n",
      "    (3637851724731): full FullGaussian2d (32 x 10 x 10 -> 14) with bias\n",
      "    (3638973674012): full FullGaussian2d (32 x 10 x 10 -> 18) with bias\n",
      "    (3637248451650): full FullGaussian2d (32 x 10 x 10 -> 7) with bias\n",
      "    (3638885582960): full FullGaussian2d (32 x 10 x 10 -> 5) with bias\n",
      "    (3638373332053): full FullGaussian2d (32 x 10 x 10 -> 10) with bias\n",
      "    (3638541006102): full FullGaussian2d (32 x 10 x 10 -> 17) with bias\n",
      "    (3633364677437): full FullGaussian2d (32 x 10 x 10 -> 10) with bias\n",
      "    (3640011636703): full FullGaussian2d (32 x 10 x 10 -> 2) with bias\n",
      "    (3631807112901): full FullGaussian2d (32 x 10 x 10 -> 29) with bias\n",
      "    (3639664527524): full FullGaussian2d (32 x 10 x 10 -> 18) with bias\n",
      "    (3634744023164): full FullGaussian2d (32 x 10 x 10 -> 12) with bias\n",
      "    (3637161140869): full FullGaussian2d (32 x 10 x 10 -> 22) with bias\n",
      "    (3638456653849): full FullGaussian2d (32 x 10 x 10 -> 2) with bias\n",
      "    (3635949043110): full FullGaussian2d (32 x 10 x 10 -> 10) with bias\n",
      "    (3632932714885): full FullGaussian2d (32 x 10 x 10 -> 11) with bias\n",
      "    (3634658447291): full FullGaussian2d (32 x 10 x 10 -> 5) with bias\n",
      "    (3637333931598): full FullGaussian2d (32 x 10 x 10 -> 9) with bias\n",
      "    (3638802601378): full FullGaussian2d (32 x 10 x 10 -> 7) with bias\n",
      "    (3639749909659): full FullGaussian2d (32 x 10 x 10 -> 8) with bias\n",
      "    (3639060843972): full FullGaussian2d (32 x 10 x 10 -> 12) with bias\n",
      "    (3631896544452): full FullGaussian2d (32 x 10 x 10 -> 32) with bias\n",
      "    (3639406161189): full FullGaussian2d (32 x 10 x 10 -> 14) with bias\n",
      "    (3639492658943): full FullGaussian2d (32 x 10 x 10 -> 17) with bias\n",
      "    (3634142311627): full FullGaussian2d (32 x 10 x 10 -> 14) with bias\n",
      "    (3632669014376): full FullGaussian2d (32 x 10 x 10 -> 21) with bias\n",
      "    (3634055946316): full FullGaussian2d (32 x 10 x 10 -> 21) with bias\n",
      "    (3640095265572): full FullGaussian2d (32 x 10 x 10 -> 25) with bias\n",
      "    (3637760318484): full FullGaussian2d (32 x 10 x 10 -> 20) with bias\n",
      "    (3638367026975): full FullGaussian2d (32 x 10 x 10 -> 16) with bias\n",
      "  )\n",
      ")\n"
     ]
    }
   ],
   "metadata": {}
  },
  {
   "cell_type": "markdown",
   "source": [
    "Above is the model description. Each session has its own readout. The Readout learns an x,y position between -1 and 1, relative to image space, and reads out from that point in feature space. THat means that the effective receptive field size of a unit in the last hidden layer will also be the receptive field size of the neuron. The x/y coordinates can be accessed like this:\n"
   ],
   "metadata": {}
  },
  {
   "cell_type": "code",
   "execution_count": 15,
   "source": [
    "model.core.features.layer1.conv.weight.data.shape"
   ],
   "outputs": [
    {
     "output_type": "error",
     "ename": "ModuleAttributeError",
     "evalue": "'Sequential' object has no attribute 'conv'",
     "traceback": [
      "\u001b[0;31m---------------------------------------------------------------------------\u001b[0m",
      "\u001b[0;31mModuleAttributeError\u001b[0m                      Traceback (most recent call last)",
      "\u001b[0;32m<ipython-input-15-3033e02393ae>\u001b[0m in \u001b[0;36m<module>\u001b[0;34m\u001b[0m\n\u001b[0;32m----> 1\u001b[0;31m \u001b[0mmodel\u001b[0m\u001b[0;34m.\u001b[0m\u001b[0mcore\u001b[0m\u001b[0;34m.\u001b[0m\u001b[0mfeatures\u001b[0m\u001b[0;34m.\u001b[0m\u001b[0mlayer1\u001b[0m\u001b[0;34m.\u001b[0m\u001b[0mconv\u001b[0m\u001b[0;34m.\u001b[0m\u001b[0mweight\u001b[0m\u001b[0;34m.\u001b[0m\u001b[0mdata\u001b[0m\u001b[0;34m.\u001b[0m\u001b[0mshape\u001b[0m\u001b[0;34m\u001b[0m\u001b[0;34m\u001b[0m\u001b[0m\n\u001b[0m",
      "\u001b[0;32m/usr/local/lib/python3.8/dist-packages/torch/nn/modules/module.py\u001b[0m in \u001b[0;36m__getattr__\u001b[0;34m(self, name)\u001b[0m\n\u001b[1;32m    776\u001b[0m             \u001b[0;32mif\u001b[0m \u001b[0mname\u001b[0m \u001b[0;32min\u001b[0m \u001b[0mmodules\u001b[0m\u001b[0;34m:\u001b[0m\u001b[0;34m\u001b[0m\u001b[0;34m\u001b[0m\u001b[0m\n\u001b[1;32m    777\u001b[0m                 \u001b[0;32mreturn\u001b[0m \u001b[0mmodules\u001b[0m\u001b[0;34m[\u001b[0m\u001b[0mname\u001b[0m\u001b[0;34m]\u001b[0m\u001b[0;34m\u001b[0m\u001b[0;34m\u001b[0m\u001b[0m\n\u001b[0;32m--> 778\u001b[0;31m         raise ModuleAttributeError(\"'{}' object has no attribute '{}'\".format(\n\u001b[0m\u001b[1;32m    779\u001b[0m             type(self).__name__, name))\n\u001b[1;32m    780\u001b[0m \u001b[0;34m\u001b[0m\u001b[0m\n",
      "\u001b[0;31mModuleAttributeError\u001b[0m: 'Sequential' object has no attribute 'conv'"
     ]
    }
   ],
   "metadata": {}
  },
  {
   "cell_type": "markdown",
   "source": [
    "#### Show example readout positions after initialization"
   ],
   "metadata": {}
  },
  {
   "cell_type": "code",
   "execution_count": null,
   "source": [
    "# x/y position (after random initialization, becuse the model isnt trained yet) for each neuron in that session\n",
    "model.readout[first_session_ID].grid"
   ],
   "outputs": [],
   "metadata": {}
  },
  {
   "cell_type": "markdown",
   "source": [
    "## Building a Trainer"
   ],
   "metadata": {}
  },
  {
   "cell_type": "markdown",
   "source": [
    "the trainer is taking care of the whole training process. when the trainer is built, itÄ's a function with the configuration already initialized"
   ],
   "metadata": {}
  },
  {
   "cell_type": "code",
   "execution_count": 16,
   "source": [
    "trainer_fn = 'nnvision.training.nnvision_trainer'\n",
    "trainer_config = dict(max_iter=1, \n",
    "                      lr_decay_steps=4, \n",
    "                      tolerance=0.0005, \n",
    "                      patience=5,\n",
    "                      verbose=False, \n",
    "                      lr_init=0.003,\n",
    "                      avg_loss=False,\n",
    "                      device='cuda')\n",
    "\n",
    "trainer = builder.get_trainer(trainer_fn, trainer_config)"
   ],
   "outputs": [],
   "metadata": {}
  },
  {
   "cell_type": "markdown",
   "source": [
    "## Train a model"
   ],
   "metadata": {}
  },
  {
   "cell_type": "code",
   "execution_count": 17,
   "source": [
    "score, output, model_state = trainer(model=model, dataloaders=dataloaders, seed=1000)"
   ],
   "outputs": [
    {
     "output_type": "stream",
     "name": "stderr",
     "text": [
      "Epoch 1: 100%|██████████| 3616/3616 [00:41<00:00, 87.87it/s] \n"
     ]
    },
    {
     "output_type": "stream",
     "name": "stdout",
     "text": [
      "[001|00/05] ---> 0.21615181863307953\n",
      "Restoring best model! 0.216152 ---> 0.216152\n"
     ]
    }
   ],
   "metadata": {}
  },
  {
   "cell_type": "markdown",
   "source": [
    "# Part Two: NNfabrik and DataJoint"
   ],
   "metadata": {}
  },
  {
   "cell_type": "markdown",
   "source": [
    "Instead of using the builder to get the data/model/and trainer, we can use datajoint to manage that process for us.\n",
    "There are Model, Dataset, and Trainer Tables. And each combination in those tables should in principle lead to a fully trained model.\n",
    "For completeness, there is also a Seed table that stores the random seed, and a Fabrikant table, that stores the name and contact details of the creator (=Fabrikant).\n"
   ],
   "metadata": {}
  },
  {
   "cell_type": "code",
   "execution_count": 20,
   "source": [
    "Model()"
   ],
   "outputs": [
    {
     "output_type": "error",
     "ename": "NameError",
     "evalue": "name 'Model' is not defined",
     "traceback": [
      "\u001b[0;31m---------------------------------------------------------------------------\u001b[0m",
      "\u001b[0;31mNameError\u001b[0m                                 Traceback (most recent call last)",
      "\u001b[0;32m<ipython-input-20-116322b4e2da>\u001b[0m in \u001b[0;36m<module>\u001b[0;34m\u001b[0m\n\u001b[0;32m----> 1\u001b[0;31m \u001b[0mModel\u001b[0m\u001b[0;34m(\u001b[0m\u001b[0;34m)\u001b[0m\u001b[0;34m\u001b[0m\u001b[0;34m\u001b[0m\u001b[0m\n\u001b[0m",
      "\u001b[0;31mNameError\u001b[0m: name 'Model' is not defined"
     ]
    }
   ],
   "metadata": {}
  },
  {
   "cell_type": "code",
   "execution_count": 21,
   "source": [
    "import datajoint as dj\n",
    "\n",
    "schema_name = ''\n",
    "\n",
    "dj.config['enable_python_native_blobs'] = True\n",
    "dj.config['nnfabrik.schema_name'] = \"\"\n",
    "schema = dj.schema(\"\")\n",
    "\n",
    "from nnfabrik.templates import TrainedModelBase\n",
    "from nnfabrik.main import *\n"
   ],
   "outputs": [],
   "metadata": {
    "collapsed": false,
    "jupyter": {
     "outputs_hidden": false
    },
    "pycharm": {
     "name": "#%%\n"
    }
   }
  },
  {
   "cell_type": "code",
   "execution_count": 23,
   "source": [
    "Fabrikant()"
   ],
   "outputs": [
    {
     "output_type": "execute_result",
     "data": {
      "text/plain": [
       "*fabrikant_nam email          affiliation    dj_username   \n",
       "+------------+ +------------+ +------------+ +------------+\n",
       "akshay         akshaykjagadis sinzlab        akjagadish    \n",
       "Arne Nix       arnenix@google sinzlab        anix          \n",
       "eywalker       edgar.walker@g Sinz Lab       eywalker      \n",
       "kwilleke       konstantin.wil sinzlab        kwilleke      \n",
       "Meenakshi      mk2299@cornell Tolias lab     tolias-mk2299 \n",
       "Mohammad Bashi mohammadbashir sinzlab        mohammad      \n",
       "Nikos          nikolaos.karan Tolias Lab     tolias-nikoska\n",
       "Your Name      your@email.com thelab         yourname      \n",
       " (Total: 8)"
      ],
      "text/html": [
       "\n",
       "        \n",
       "        <style type=\"text/css\">\n",
       "            .Relation{\n",
       "                border-collapse:collapse;\n",
       "            }\n",
       "            .Relation th{\n",
       "                background: #A0A0A0; color: #ffffff; padding:4px; border:#f0e0e0 1px solid;\n",
       "                font-weight: normal; font-family: monospace; font-size: 100%;\n",
       "            }\n",
       "            .Relation td{\n",
       "                padding:4px; border:#f0e0e0 1px solid; font-size:100%;\n",
       "            }\n",
       "            .Relation tr:nth-child(odd){\n",
       "                background: #ffffff;\n",
       "            }\n",
       "            .Relation tr:nth-child(even){\n",
       "                background: #f3f1ff;\n",
       "            }\n",
       "            /* Tooltip container */\n",
       "            .djtooltip {\n",
       "            }\n",
       "            /* Tooltip text */\n",
       "            .djtooltip .djtooltiptext {\n",
       "                visibility: hidden;\n",
       "                width: 120px;\n",
       "                background-color: black;\n",
       "                color: #fff;\n",
       "                text-align: center;\n",
       "                padding: 5px 0;\n",
       "                border-radius: 6px;\n",
       "                /* Position the tooltip text - see examples below! */\n",
       "                position: absolute;\n",
       "                z-index: 1;\n",
       "            }\n",
       "            #primary {\n",
       "                font-weight: bold;\n",
       "                color: black;\n",
       "            }\n",
       "\n",
       "            #nonprimary {\n",
       "                font-weight: normal;\n",
       "                color: white;\n",
       "            }\n",
       "\n",
       "            /* Show the tooltip text when you mouse over the tooltip container */\n",
       "            .djtooltip:hover .djtooltiptext {\n",
       "                visibility: visible;\n",
       "            }\n",
       "        </style>\n",
       "        \n",
       "        <b></b>\n",
       "            <div style=\"max-height:1000px;max-width:1500px;overflow:auto;\">\n",
       "            <table border=\"1\" class=\"Relation\">\n",
       "                <thead> <tr style=\"text-align: right;\"> <th> <div class=\"djtooltip\">\n",
       "                                <p id=\"primary\">fabrikant_name</p>\n",
       "                                <span class=\"djtooltiptext\">Name of the contributor that added this entry</span>\n",
       "                            </div></th><th><div class=\"djtooltip\">\n",
       "                                <p id=\"nonprimary\">email</p>\n",
       "                                <span class=\"djtooltiptext\">e-mail address</span>\n",
       "                            </div></th><th><div class=\"djtooltip\">\n",
       "                                <p id=\"nonprimary\">affiliation</p>\n",
       "                                <span class=\"djtooltiptext\">conributor's affiliation</span>\n",
       "                            </div></th><th><div class=\"djtooltip\">\n",
       "                                <p id=\"nonprimary\">dj_username</p>\n",
       "                                <span class=\"djtooltiptext\">DataJoint username</span>\n",
       "                            </div> </th> </tr> </thead>\n",
       "                <tbody> <tr> <td>akshay</td>\n",
       "<td>akshaykjagadish@gmail.com</td>\n",
       "<td>sinzlab</td>\n",
       "<td>akjagadish</td></tr><tr><td>Arne Nix</td>\n",
       "<td>arnenix@googlemail.com</td>\n",
       "<td>sinzlab</td>\n",
       "<td>anix</td></tr><tr><td>eywalker</td>\n",
       "<td>edgar.walker@gmail.com</td>\n",
       "<td>Sinz Lab</td>\n",
       "<td>eywalker</td></tr><tr><td>kwilleke</td>\n",
       "<td>konstantin.willeke@gmail.com</td>\n",
       "<td>sinzlab</td>\n",
       "<td>kwilleke</td></tr><tr><td>Meenakshi</td>\n",
       "<td>mk2299@cornell.edu</td>\n",
       "<td>Tolias lab</td>\n",
       "<td>tolias-mk2299</td></tr><tr><td>Mohammad Bashiri</td>\n",
       "<td>mohammadbashiri93@gmail.com</td>\n",
       "<td>sinzlab</td>\n",
       "<td>mohammad</td></tr><tr><td>Nikos</td>\n",
       "<td>nikolaos.karantzas@bcm.edu</td>\n",
       "<td>Tolias Lab</td>\n",
       "<td>tolias-nikoskar</td></tr><tr><td>Your Name</td>\n",
       "<td>your@email.com</td>\n",
       "<td>thelab</td>\n",
       "<td>yourname</td> </tr> </tbody>\n",
       "            </table>\n",
       "            \n",
       "            <p>Total: 8</p></div>\n",
       "            "
      ]
     },
     "metadata": {},
     "execution_count": 23
    }
   ],
   "metadata": {}
  },
  {
   "cell_type": "code",
   "execution_count": null,
   "source": [
    "# change this entry to reflect your datajoint username\n",
    "Fabrikant().insert1(dict(fabrikant_name='kwilleke',\n",
    "                         email=\"konstantin.willeke@gmail.com\",\n",
    "                         affiliation='sinzlab',\n",
    "                         dj_username=\"kwilleke\"))"
   ],
   "outputs": [],
   "metadata": {}
  },
  {
   "cell_type": "code",
   "execution_count": null,
   "source": [
    "Fabrikant()"
   ],
   "outputs": [],
   "metadata": {}
  },
  {
   "cell_type": "code",
   "execution_count": null,
   "source": [
    "Seed().insert([{'seed':1000}])\n",
    "Seed()"
   ],
   "outputs": [],
   "metadata": {}
  },
  {
   "cell_type": "markdown",
   "source": [
    "###  add entries for dataset, model, and trainer, with their corresponding configurations"
   ],
   "metadata": {}
  },
  {
   "cell_type": "markdown",
   "source": [
    "#### Dataset"
   ],
   "metadata": {}
  },
  {
   "cell_type": "code",
   "execution_count": null,
   "source": [
    "# adds the dataset_function and dataset config that we defined above to the datase table\n",
    "Dataset().add_entry(dataset_fn, dataset_config, dataset_comment='CSRF_V1')\n",
    "Dataset()"
   ],
   "outputs": [],
   "metadata": {}
  },
  {
   "cell_type": "markdown",
   "source": [
    "#### Model"
   ],
   "metadata": {}
  },
  {
   "cell_type": "code",
   "execution_count": null,
   "source": [
    "model_fn = 'nnvision.models.se_core_full_gauss_readout'\n",
    "model_config = {'pad_input': False,\n",
    "                'stack': -1,\n",
    "               'depth_separable': True,\n",
    "               'input_kern': 20,\n",
    "               'gamma_input': 11.2,\n",
    "               'gamma_readout': 0.33,\n",
    "               'hidden_dilation': 1,\n",
    "               'hidden_kern': 5,\n",
    "               'n_se_blocks': 0,\n",
    "               'hidden_channels': 32,\n",
    "               'gauss_type': 'isotropic'}                \n",
    "Model().add_entry(model_fn, model_config, model_comment='isotropic')\n",
    "Model()"
   ],
   "outputs": [],
   "metadata": {}
  },
  {
   "cell_type": "code",
   "execution_count": null,
   "source": [
    "Trainer.delete()"
   ],
   "outputs": [],
   "metadata": {}
  },
  {
   "cell_type": "code",
   "execution_count": null,
   "source": [
    "trainer_fn = 'nnvision.training.nnvision_trainer'\n",
    "trainer_config = dict(max_iter=2, \n",
    "                      lr_decay_steps=4, \n",
    "                      tolerance=0.0005, \n",
    "                      patience=5,\n",
    "                      verbose=False, \n",
    "                      lr_init=0.0045,\n",
    "                      avg_loss=False,\n",
    "                      device='cuda')\n",
    "\n",
    "Trainer().add_entry(trainer_fn, trainer_config, trainer_comment=\"max_iter: 2\")\n",
    "Trainer()"
   ],
   "outputs": [],
   "metadata": {}
  },
  {
   "cell_type": "code",
   "execution_count": null,
   "source": [
    "(Trainer&\"trainer_hash='ef4dd7b8ddfb1b7bd96d43d78ff9c07e'\")"
   ],
   "outputs": [],
   "metadata": {}
  },
  {
   "cell_type": "markdown",
   "source": [
    "####  The TrainedModel is a template, which can be found in nnfabrik.template.py"
   ],
   "metadata": {}
  },
  {
   "cell_type": "markdown",
   "source": [
    "the trained model table is taking care of model training, and stores the model state in a part table. For further analyses of the trained model, one can either overwrite the TrainedModel definition by inheriting from the Base template class, or by attaching other tables to trained model."
   ],
   "metadata": {}
  },
  {
   "cell_type": "code",
   "execution_count": null,
   "source": [
    "# creating the simples TrainedModel class\n",
    "@schema\n",
    "class TrainedModel(TrainedModelBase):\n",
    "    pass"
   ],
   "outputs": [],
   "metadata": {}
  },
  {
   "cell_type": "code",
   "execution_count": null,
   "source": [
    "TrainedModel()"
   ],
   "outputs": [],
   "metadata": {}
  },
  {
   "cell_type": "markdown",
   "source": [
    "as primary keys, it has the hashes of all the configurations, and it stores the score, and the output (which are defined in the respective trainer)"
   ],
   "metadata": {}
  },
  {
   "cell_type": "markdown",
   "source": [
    "## Lets populate"
   ],
   "metadata": {}
  },
  {
   "cell_type": "code",
   "execution_count": null,
   "source": [
    "TrainedModel().populate()"
   ],
   "outputs": [],
   "metadata": {}
  },
  {
   "cell_type": "code",
   "execution_count": null,
   "source": [
    "TrainedModel()"
   ],
   "outputs": [],
   "metadata": {}
  },
  {
   "cell_type": "code",
   "execution_count": null,
   "source": [
    "model_hash = TrainedModel().fetch1(\"model_hash\")"
   ],
   "outputs": [],
   "metadata": {}
  },
  {
   "cell_type": "code",
   "execution_count": null,
   "source": [
    "# now if you want to build the model again, we can use the .load_model() function of the trained model table.\n",
    "# To use the load model function, the table needs to be restricted to one Entry. \n",
    "# for example: restricting with a key:\n",
    "some_key = dict(model_hash=model_hash)\n",
    "TrainedModel&some_key"
   ],
   "outputs": [],
   "metadata": {}
  },
  {
   "cell_type": "markdown",
   "source": [
    "# How to Load a Model"
   ],
   "metadata": {}
  },
  {
   "cell_type": "code",
   "execution_count": null,
   "source": [
    "dataloader, model = (TrainedModel & some_key).load_model()"
   ],
   "outputs": [],
   "metadata": {}
  },
  {
   "cell_type": "code",
   "execution_count": null,
   "source": [
    "# that is the trained model, with the state dict loaded and all. lets set to eval and start using it\n",
    "model.eval()"
   ],
   "outputs": [],
   "metadata": {}
  },
  {
   "cell_type": "markdown",
   "source": [
    "# Parameter Extension"
   ],
   "metadata": {}
  },
  {
   "cell_type": "code",
   "execution_count": null,
   "source": [
    "# There's also the parameter extension, so that you can restrict with the confif objects as well."
   ],
   "outputs": [],
   "metadata": {}
  },
  {
   "cell_type": "code",
   "execution_count": null,
   "source": [
    "from nnfabrik.utility.dj_helpers import create_param_expansion, make_definition\n",
    "ModelExpanded = create_param_expansion('nnvision.models.se_core_full_gauss_readout', Model,fn_field='model_fn', config_field='model_config')\n",
    "ModelParams = schema(ModelExpanded)"
   ],
   "outputs": [],
   "metadata": {}
  },
  {
   "cell_type": "code",
   "execution_count": null,
   "source": [
    "ModelParams()"
   ],
   "outputs": [],
   "metadata": {}
  },
  {
   "cell_type": "code",
   "execution_count": null,
   "source": [
    "ModelParams.populate()"
   ],
   "outputs": [],
   "metadata": {}
  },
  {
   "cell_type": "code",
   "execution_count": null,
   "source": [
    "ModelParams()"
   ],
   "outputs": [],
   "metadata": {}
  },
  {
   "cell_type": "code",
   "execution_count": null,
   "source": [
    "# for example:\n",
    "TrainedModel*ModelParams&\"hidden_kern=5\""
   ],
   "outputs": [],
   "metadata": {}
  },
  {
   "cell_type": "code",
   "execution_count": null,
   "source": [
    "# Now you can just use that for building the model:\n",
    "dataloaders, model = (TrainedModel & (ModelParams & \"hidden_kern=5\")).load_model()"
   ],
   "outputs": [],
   "metadata": {}
  },
  {
   "cell_type": "code",
   "execution_count": null,
   "source": [],
   "outputs": [],
   "metadata": {}
  },
  {
   "cell_type": "code",
   "execution_count": null,
   "source": [],
   "outputs": [],
   "metadata": {}
  }
 ],
 "metadata": {
  "kernelspec": {
   "display_name": "Python 3",
   "language": "python",
   "name": "python3"
  },
  "language_info": {
   "codemirror_mode": {
    "name": "ipython",
    "version": 3
   },
   "file_extension": ".py",
   "mimetype": "text/x-python",
   "name": "python",
   "nbconvert_exporter": "python",
   "pygments_lexer": "ipython3",
   "version": "3.8.0"
  },
  "pycharm": {
   "stem_cell": {
    "cell_type": "raw",
    "metadata": {
     "collapsed": false
    },
    "source": []
   }
  }
 },
 "nbformat": 4,
 "nbformat_minor": 4
}